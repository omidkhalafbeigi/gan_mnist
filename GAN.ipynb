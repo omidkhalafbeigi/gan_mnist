{
  "nbformat": 4,
  "nbformat_minor": 0,
  "metadata": {
    "colab": {
      "name": "GAN.ipynb",
      "provenance": [],
      "collapsed_sections": [],
      "authorship_tag": "ABX9TyNTyqxWklwU/2W3oYulZMhd",
      "include_colab_link": true
    },
    "kernelspec": {
      "display_name": "Python 3",
      "name": "python3"
    },
    "language_info": {
      "name": "python"
    },
    "accelerator": "GPU"
  },
  "cells": [
    {
      "cell_type": "markdown",
      "metadata": {
        "id": "view-in-github",
        "colab_type": "text"
      },
      "source": [
        "<a href=\"https://colab.research.google.com/github/omidkhalafbeigi/gan_mnist/blob/main/GAN.ipynb\" target=\"_parent\"><img src=\"https://colab.research.google.com/assets/colab-badge.svg\" alt=\"Open In Colab\"/></a>"
      ]
    },
    {
      "cell_type": "code",
      "metadata": {
        "id": "XXLmFup4QLTH"
      },
      "source": [
        "import tensorflow as tf\n",
        "import keras\n",
        "import numpy as np\n",
        "from matplotlib import pyplot as plt\n",
        "import random\n",
        "from sklearn.utils import shuffle\n",
        "from sklearn.preprocessing import MinMaxScaler"
      ],
      "execution_count": null,
      "outputs": []
    },
    {
      "cell_type": "markdown",
      "metadata": {
        "id": "NLU1rVAXzL__"
      },
      "source": [
        "We can use \"Tanh\" too as activation function for discriminator last layer, but by personal experience, it's better to use sigmoid.\n",
        "When I used sigmoid, generated hand-written numbers in the end, were so better... "
      ]
    },
    {
      "cell_type": "code",
      "metadata": {
        "id": "Kmo263-6k4Tw"
      },
      "source": [
        "def create_generator():\n",
        "  model = keras.Sequential()\n",
        "  model.add(keras.layers.Dense(units=128, activation=keras.activations.LeakyReLU(alpha=0.01), input_shape=(100,)))\n",
        "  model.add(keras.layers.Dense(units=784, activation='sigmoid'))  \n",
        "\n",
        "  return model"
      ],
      "execution_count": null,
      "outputs": []
    },
    {
      "cell_type": "code",
      "metadata": {
        "id": "CCWgb6TRl1FP"
      },
      "source": [
        "def create_discriminator():\n",
        "  model = keras.Sequential()\n",
        "  model.add(keras.layers.Dense(units=128, activation=keras.layers.LeakyReLU(alpha=0.01), name='discriminator_layer1', input_shape=(784,)))\n",
        "  model.add(keras.layers.Dense(units=1, activation='sigmoid'))\n",
        "  \n",
        "  model.compile(optimizer='adam', loss='binary_crossentropy', metrics=['accuracy'])\n",
        " \n",
        "  return model"
      ],
      "execution_count": null,
      "outputs": []
    },
    {
      "cell_type": "code",
      "metadata": {
        "id": "F-Sm5gvum1Dw"
      },
      "source": [
        "discriminator = create_discriminator()\n",
        "generator = create_generator()"
      ],
      "execution_count": null,
      "outputs": []
    },
    {
      "cell_type": "markdown",
      "metadata": {
        "id": "qISqtLta1Bln"
      },
      "source": [
        "Attention: It's better to use 'add' function to combine two networks (Instead of Model class).\n",
        "\n",
        "At the end of this project, I tried to combine two networks by this class, but training failed!\n",
        "\n",
        "I have no idea why this happened..."
      ]
    },
    {
      "cell_type": "code",
      "metadata": {
        "id": "AZpORtAXHXk0"
      },
      "source": [
        "discriminator.trainable = False\n",
        "\n",
        "gan = keras.Sequential()\n",
        "\n",
        "gan.add(generator)\n",
        "gan.add(discriminator)\n",
        "\n",
        "gan.compile(optimizer='adam', loss='binary_crossentropy', metrics=['accuracy'])"
      ],
      "execution_count": null,
      "outputs": []
    },
    {
      "cell_type": "markdown",
      "metadata": {
        "id": "oTk_MRfZy4g3"
      },
      "source": [
        "Combination Train+Test dataset for more accuracy! (60,000 + 10,000=70,000 rows)"
      ]
    },
    {
      "cell_type": "code",
      "metadata": {
        "id": "8PErPMcfrsbE"
      },
      "source": [
        "train = tf.keras.datasets.mnist.load_data()[0][0]\n",
        "test = tf.keras.datasets.mnist.load_data()[1][0]"
      ],
      "execution_count": null,
      "outputs": []
    },
    {
      "cell_type": "code",
      "metadata": {
        "id": "QFFE2kMCjBDD"
      },
      "source": [
        "X = np.vstack((train, test))\n",
        "X = np.reshape(X, newshape=(X.shape[0], X.shape[1] * X.shape[1]))\n",
        "scaler = MinMaxScaler(feature_range=(0, 1))\n",
        "\n",
        "X = scaler.fit_transform(X)"
      ],
      "execution_count": null,
      "outputs": []
    },
    {
      "cell_type": "code",
      "metadata": {
        "id": "Tpgq_cqmjnkD"
      },
      "source": [
        "real_input_discriminator = shuffle(X[:, :])\n",
        "real_label_discriminator = np.ones(shape=real_input_discriminator.shape[0]).reshape(-1, 1)"
      ],
      "execution_count": null,
      "outputs": []
    },
    {
      "cell_type": "markdown",
      "metadata": {
        "id": "XZSSS-LPzxcz"
      },
      "source": [
        "Attention: When we start training both networks ('D' and 'G'), in the process of training, 'G' loss value should be between 0.1 and 1 and 'D' loss value should be between 0.4 and 2 or higher!\n",
        "\n",
        "If at the beginning of training, you faced with loss value 0 for both 'D' and 'G' (or after afew iterations), your training is failed and you should review networks architecture and hyperparameters.\n",
        "\n",
        "I tried to use 'Label-Smoothing' method to get comfortable for generator network!\n",
        "\n",
        "When we use this method, fooling discriminator by generator is more easier. In fact, we consider some penalties for generator.\n",
        "\n",
        "\"value 0.9 as label 1 and value 0.1 as label 0\""
      ]
    },
    {
      "cell_type": "code",
      "metadata": {
        "id": "H7zMqaoLq6YL",
        "colab": {
          "base_uri": "https://localhost:8080/",
          "height": 1000
        },
        "outputId": "a7ecd231-25a0-409c-f5ba-9d2153a59194"
      },
      "source": [
        "epochs = 200\n",
        "batch_size = 128\n",
        "\n",
        "d_loss = list()\n",
        "g_loss = list()\n",
        "\n",
        "d_loss_i = list()\n",
        "g_loss_i = list()\n",
        "\n",
        "for epoch in range(epochs):\n",
        "    for i in range(batch_size, X.shape[0], batch_size):\n",
        "        generator.trainable = False\n",
        "        discriminator.trainable = True\n",
        "\n",
        "        d_loss_1 = discriminator.train_on_batch(x=real_input_discriminator[i - batch_size:i], y=np.full((batch_size,), fill_value=0.9).reshape(-1, 1))\n",
        "        d_loss_2 = discriminator.train_on_batch(x=generator.predict(np.random.normal(size=(batch_size, 100))), y=np.full((batch_size,), fill_value=0.1).reshape(-1, 1))\n",
        "\n",
        "        d_loss.append((d_loss_1[0] + d_loss_2[0]) / 2)\n",
        "        d_loss_i.append((d_loss_1[0] + d_loss_2[0]) / 2)\n",
        "\n",
        "        generator.trainable = True\n",
        "        discriminator.trainable = False\n",
        "\n",
        "        g_loss_value = gan.train_on_batch(x=np.random.normal(size=(batch_size, 100)), y=np.full((batch_size,), fill_value=0.9))\n",
        "\n",
        "        g_loss.append(g_loss_value)\n",
        "        g_loss_i.append(g_loss_value)\n",
        "\n",
        "    if epoch % 10 == 0:\n",
        "      print(f'Epoch: {epoch}')\n",
        "      print(f'G Loss: {np.average(g_loss_i)} - D Loss: {np.average(d_loss_i)}')\n",
        "\n",
        "      g_loss_i.clear()\n",
        "      d_loss_i.clear()\n",
        "\n",
        "      plt.imshow(generator.predict(np.random.normal(size=(1, 100))).reshape(28, 28))\n",
        "      plt.show()\n",
        "\n",
        "      print('-------------------')"
      ],
      "execution_count": null,
      "outputs": [
        {
          "output_type": "stream",
          "text": [
            "Epoch: 0\n",
            "G Loss: 1.0676477989215991 - D Loss: 0.3347084342123388\n"
          ],
          "name": "stdout"
        },
        {
          "output_type": "display_data",
          "data": {
            "image/png": "[encoded data removed]",
            "text/plain": [
              "<Figure size 432x288 with 1 Axes>"
            ]
          },
          "metadata": {
            "tags": [],
            "needs_background": "light"
          }
        },
        {
          "output_type": "stream",
          "text": [
            "-------------------\n",
            "Epoch: 10\n",
            "G Loss: 1.009208606221737 - D Loss: 0.35314306419192654\n"
          ],
          "name": "stdout"
        },
        {
          "output_type": "display_data",
          "data": {
            "image/png": "[encoded data removed]",
            "text/plain": [
              "<Figure size 432x288 with 1 Axes>"
            ]
          },
          "metadata": {
            "tags": [],
            "needs_background": "light"
          }
        },
        {
          "output_type": "stream",
          "text": [
            "-------------------\n",
            "Epoch: 20\n",
            "G Loss: 0.8503015594604688 - D Loss: 0.4284458846945466\n"
          ],
          "name": "stdout"
        },
        {
          "output_type": "display_data",
          "data": {
            "image/png": "[encoded data removed]",
            "text/plain": [
              "<Figure size 432x288 with 1 Axes>"
            ]
          },
          "metadata": {
            "tags": [],
            "needs_background": "light"
          }
        },
        {
          "output_type": "stream",
          "text": [
            "-------------------\n",
            "Epoch: 30\n",
            "G Loss: 0.8113064420092236 - D Loss: 0.45403174687272463\n"
          ],
          "name": "stdout"
        },
        {
          "output_type": "display_data",
          "data": {
            "image/png": "[encoded data removed]",
            "text/plain": [
              "<Figure size 432x288 with 1 Axes>"
            ]
          },
          "metadata": {
            "tags": [],
            "needs_background": "light"
          }
        },
        {
          "output_type": "stream",
          "text": [
            "-------------------\n",
            "Epoch: 40\n",
            "G Loss: 0.7946504840047368 - D Loss: 0.46224035911616823\n"
          ],
          "name": "stdout"
        },
        {
          "output_type": "display_data",
          "data": {
            "image/png": "[encoded data removed]",
            "text/plain": [
              "<Figure size 432x288 with 1 Axes>"
            ]
          },
          "metadata": {
            "tags": [],
            "needs_background": "light"
          }
        },
        {
          "output_type": "stream",
          "text": [
            "-------------------\n",
            "Epoch: 50\n",
            "G Loss: 0.7850403542592849 - D Loss: 0.4658202886499546\n"
          ],
          "name": "stdout"
        },
        {
          "output_type": "display_data",
          "data": {
            "image/png": "[encoded data removed]",
            "text/plain": [
              "<Figure size 432x288 with 1 Axes>"
            ]
          },
          "metadata": {
            "tags": [],
            "needs_background": "light"
          }
        },
        {
          "output_type": "stream",
          "text": [
            "-------------------\n",
            "Epoch: 60\n",
            "G Loss: 0.7780742071814589 - D Loss: 0.4672964250812164\n"
          ],
          "name": "stdout"
        },
        {
          "output_type": "display_data",
          "data": {
            "image/png": "[encoded data removed]",
            "text/plain": [
              "<Figure size 432x288 with 1 Axes>"
            ]
          },
          "metadata": {
            "tags": [],
            "needs_background": "light"
          }
        },
        {
          "output_type": "stream",
          "text": [
            "-------------------\n",
            "Epoch: 70\n",
            "G Loss: 0.7790683394386655 - D Loss: 0.46630266195524744\n"
          ],
          "name": "stdout"
        },
        {
          "output_type": "display_data",
          "data": {
            "image/png": "[encoded data removed]",
            "text/plain": [
              "<Figure size 432x288 with 1 Axes>"
            ]
          },
          "metadata": {
            "tags": [],
            "needs_background": "light"
          }
        },
        {
          "output_type": "stream",
          "text": [
            "-------------------\n",
            "Epoch: 80\n",
            "G Loss: 0.7759954088118487 - D Loss: 0.467678708645887\n"
          ],
          "name": "stdout"
        },
        {
          "output_type": "display_data",
          "data": {
            "image/png": "[encoded data removed]",
            "text/plain": [
              "<Figure size 432x288 with 1 Axes>"
            ]
          },
          "metadata": {
            "tags": [],
            "needs_background": "light"
          }
        },
        {
          "output_type": "stream",
          "text": [
            "-------------------\n",
            "Epoch: 90\n",
            "G Loss: 0.7703298066780244 - D Loss: 0.4687838359548277\n"
          ],
          "name": "stdout"
        },
        {
          "output_type": "display_data",
          "data": {
            "image/png": "[encoded data removed]",
            "text/plain": [
              "<Figure size 432x288 with 1 Axes>"
            ]
          },
          "metadata": {
            "tags": [],
            "needs_background": "light"
          }
        },
        {
          "output_type": "stream",
          "text": [
            "-------------------\n",
            "Epoch: 100\n",
            "G Loss: 0.7717384792291201 - D Loss: 0.46975154565040006\n"
          ],
          "name": "stdout"
        },
        {
          "output_type": "display_data",
          "data": {
            "image/png": "[encoded data removed]",
            "text/plain": [
              "<Figure size 432x288 with 1 Axes>"
            ]
          },
          "metadata": {
            "tags": [],
            "needs_background": "light"
          }
        },
        {
          "output_type": "stream",
          "text": [
            "-------------------\n",
            "Epoch: 110\n",
            "G Loss: 0.7696736862480422 - D Loss: 0.4703985615418507\n"
          ],
          "name": "stdout"
        },
        {
          "output_type": "display_data",
          "data": {
            "image/png": "[encoded data removed]",
            "text/plain": [
              "<Figure size 432x288 with 1 Axes>"
            ]
          },
          "metadata": {
            "tags": [],
            "needs_background": "light"
          }
        },
        {
          "output_type": "stream",
          "text": [
            "-------------------\n",
            "Epoch: 120\n",
            "G Loss: 0.7728768873564053 - D Loss: 0.46941223991113706\n"
          ],
          "name": "stdout"
        },
        {
          "output_type": "display_data",
          "data": {
            "image/png": "[encoded data removed]",
            "text/plain": [
              "<Figure size 432x288 with 1 Axes>"
            ]
          },
          "metadata": {
            "tags": [],
            "needs_background": "light"
          }
        },
        {
          "output_type": "stream",
          "text": [
            "-------------------\n",
            "Epoch: 130\n",
            "G Loss: 0.7742651089425489 - D Loss: 0.46823195710014076\n"
          ],
          "name": "stdout"
        },
        {
          "output_type": "display_data",
          "data": {
            "image/png": "[encoded data removed]",
            "text/plain": [
              "<Figure size 432x288 with 1 Axes>"
            ]
          },
          "metadata": {
            "tags": [],
            "needs_background": "light"
          }
        },
        {
          "output_type": "stream",
          "text": [
            "-------------------\n",
            "Epoch: 140\n",
            "G Loss: 0.7753538098964062 - D Loss: 0.4671678506683954\n"
          ],
          "name": "stdout"
        },
        {
          "output_type": "display_data",
          "data": {
            "image/png": "[encoded data removed]",
            "text/plain": [
              "<Figure size 432x288 with 1 Axes>"
            ]
          },
          "metadata": {
            "tags": [],
            "needs_background": "light"
          }
        },
        {
          "output_type": "stream",
          "text": [
            "-------------------\n",
            "Epoch: 150\n",
            "G Loss: 0.775344037256398 - D Loss: 0.4665721308399033\n"
          ],
          "name": "stdout"
        },
        {
          "output_type": "display_data",
          "data": {
            "image/png": "[encoded data removed]",
            "text/plain": [
              "<Figure size 432x288 with 1 Axes>"
            ]
          },
          "metadata": {
            "tags": [],
            "needs_background": "light"
          }
        },
        {
          "output_type": "stream",
          "text": [
            "-------------------\n",
            "Epoch: 160\n",
            "G Loss: 0.7762118688323996 - D Loss: 0.4658052376938827\n"
          ],
          "name": "stdout"
        },
        {
          "output_type": "display_data",
          "data": {
            "image/png": "[encoded data removed]",
            "text/plain": [
              "<Figure size 432x288 with 1 Axes>"
            ]
          },
          "metadata": {
            "tags": [],
            "needs_background": "light"
          }
        },
        {
          "output_type": "stream",
          "text": [
            "-------------------\n",
            "Epoch: 170\n",
            "G Loss: 0.7754906415611833 - D Loss: 0.46538669430401736\n"
          ],
          "name": "stdout"
        },
        {
          "output_type": "display_data",
          "data": {
            "image/png": "[encoded data removed]",
            "text/plain": [
              "<Figure size 432x288 with 1 Axes>"
            ]
          },
          "metadata": {
            "tags": [],
            "needs_background": "light"
          }
        },
        {
          "output_type": "stream",
          "text": [
            "-------------------\n",
            "Epoch: 180\n",
            "G Loss: 0.7765828843081827 - D Loss: 0.4647414105115356\n"
          ],
          "name": "stdout"
        },
        {
          "output_type": "display_data",
          "data": {
            "image/png": "[encoded data removed]",
            "text/plain": [
              "<Figure size 432x288 with 1 Axes>"
            ]
          },
          "metadata": {
            "tags": [],
            "needs_background": "light"
          }
        },
        {
          "output_type": "stream",
          "text": [
            "-------------------\n",
            "Epoch: 190\n",
            "G Loss: 0.7752524580601807 - D Loss: 0.46473648624269515\n"
          ],
          "name": "stdout"
        },
        {
          "output_type": "display_data",
          "data": {
            "image/png": "[encoded data removed]",
            "text/plain": [
              "<Figure size 432x288 with 1 Axes>"
            ]
          },
          "metadata": {
            "tags": [],
            "needs_background": "light"
          }
        },
        {
          "output_type": "stream",
          "text": [
            "-------------------\n"
          ],
          "name": "stdout"
        }
      ]
    },
    {
      "cell_type": "code",
      "metadata": {
        "id": "bqBU8Ln2FOAP",
        "colab": {
          "base_uri": "https://localhost:8080/",
          "height": 265
        },
        "outputId": "2f825dc1-473f-433c-a097-148b8e8a26d7"
      },
      "source": [
        "plt.plot(g_loss, 'orange')\n",
        "plt.plot(d_loss, 'blue')\n",
        "plt.show()"
      ],
      "execution_count": null,
      "outputs": [
        {
          "output_type": "display_data",
          "data": {
            "image/png": "[encoded data removed]",
            "text/plain": [
              "<Figure size 432x288 with 1 Axes>"
            ]
          },
          "metadata": {
            "tags": [],
            "needs_background": "light"
          }
        }
      ]
    },
    {
      "cell_type": "code",
      "metadata": {
        "id": "F3da6KumWM5m",
        "colab": {
          "base_uri": "https://localhost:8080/",
          "height": 282
        },
        "outputId": "92a1d914-9db5-4365-8d3b-2c31642196cb"
      },
      "source": [
        "plt.imshow(generator.predict(np.random.normal(size=(1, 100))).reshape(28, 28))"
      ],
      "execution_count": null,
      "outputs": [
        {
          "output_type": "execute_result",
          "data": {
            "text/plain": [
              "<matplotlib.image.AxesImage at 0x7f5a70359710>"
            ]
          },
          "metadata": {
            "tags": []
          },
          "execution_count": 22
        },
        {
          "output_type": "display_data",
          "data": {
            "image/png": "[encoded data removed]",
            "text/plain": [
              "<Figure size 432x288 with 1 Axes>"
            ]
          },
          "metadata": {
            "tags": [],
            "needs_background": "light"
          }
        }
      ]
    },
    {
      "cell_type": "code",
      "metadata": {
        "id": "NQc72YooLAiV",
        "colab": {
          "base_uri": "https://localhost:8080/"
        },
        "outputId": "437aaca1-5eb5-4271-e813-34e933616710"
      },
      "source": [
        "discriminator.save('discriminator.h5')\n",
        "generator.save('generator.h5')\n",
        "gan.save('gan.h5')"
      ],
      "execution_count": null,
      "outputs": [
        {
          "output_type": "stream",
          "text": [
            "WARNING:tensorflow:Compiled the loaded model, but the compiled metrics have yet to be built. `model.compile_metrics` will be empty until you train or evaluate the model.\n"
          ],
          "name": "stdout"
        }
      ]
    },
    {
      "cell_type": "code",
      "metadata": {
        "id": "j_XBLr51aYFN"
      },
      "source": [
        ""
      ],
      "execution_count": null,
      "outputs": []
    }
  ]
}